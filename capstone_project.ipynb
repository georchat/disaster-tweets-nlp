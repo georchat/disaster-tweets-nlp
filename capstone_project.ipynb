{
 "cells": [
  {
   "cell_type": "markdown",
   "metadata": {
    "slideshow": {
     "slide_type": "skip"
    }
   },
   "source": [
    "<img src=\"./images/ibm-logo.png\" alt=\"ibm-logo\" align=\"center\" style=\"width: 200px;\"/>\n",
    "\n",
    "**Advanced Data Science with IBM**\n",
    "\n",
    "<hr />\n",
    "\n",
    "### Capstone Project\n"
   ]
  },
  {
   "cell_type": "markdown",
   "metadata": {
    "slideshow": {
     "slide_type": "skip"
    }
   },
   "source": [
    "# Use Case and Data Source\n",
    "\n",
    "**Project Description**\n",
    "\n",
    "Twitter has become an important communication channel in times of emergency. The ubiquitousness of smartphones enables people to announce an emergency they’re observing in real-time. Because of this, more agencies are interested in programatically monitoring Twitter (i.e. disaster relief organizations and news agencies).\n",
    "\n",
    "But, it’s not always clear whether a person’s words are actually announcing a disaster. Take this example:\n",
    "\n",
    "<img src=\"./images/tweet_screenshot.png\" alt=\"tweet_screenshot\" align=\"center\" style=\"width: 250px;\"/>\n",
    "\n",
    "The author explicitly uses the word “ABLAZE” but means it metaphorically. This is clear to a human right away, especially with the visual aid. But it’s less clear to a machine. The objective of this project is to build a machine learning model that predicts which Tweets are about real disasters and which one’s aren’t.\n",
    "\n",
    "**Dataset**\n",
    "\n",
    "The dataset is open source and is available on [kaggle](https://www.kaggle.com/vstepanenko/disaster-tweets). It contains over 11,000 tweets associated with disaster keywords like “crash”, “quarantine”, and “bush fires” as well as the location and keyword itself.\n",
    "\n",
    "The tweets were collected on Jan 14th, 2020.\n",
    "\n",
    "Some of the topics people were tweeting:\n",
    "\n",
    "* The eruption of Taal Volcano in Batangas, Philippines\n",
    "* Coronavirus\n",
    "* Bushfires in Australia\n",
    "* Iran downing of the airplane flight PS752\n",
    "\n",
    "Disclaimer: The dataset contains text that may be considered profane, vulgar, or offensive."
   ]
  },
  {
   "cell_type": "markdown",
   "metadata": {},
   "source": [
    "# Initial Data Exploration\n",
    "\n",
    "**What files do I need?**\n",
    "\n",
    "I used the kaggle API to fetch the file *tweets.csv*. I created an API token to get the kaggle.json file and then from my local directory I ran the command:\n",
    "\n",
    "`kaggle datasets download -d vstepanenko/disaster-tweets`\n",
    "\n",
    "**What should I expect the data format to be?**\n",
    "\n",
    "Each sample in the dataset has the following information:\n",
    "\n",
    "* The text of a tweet\n",
    "* A keyword from that tweet (although this may be blank!)\n",
    "* The location the tweet was sent from (may also be blank)\n",
    "\n",
    "**What am I predicting?**\n",
    "\n",
    "I am predicting whether a given tweet is about a real disaster or not. If so, predict a 1. If not, predict a 0.\n",
    "\n",
    "\n",
    "**Columns**\n",
    "\n",
    "`id` - a unique identifier for each tweet\n",
    "`text` - the text of the tweet\n",
    "`location` - the location the tweet was sent from (may be blank)\n",
    "`keyword` - a particular keyword from the tweet (may be blank)\n",
    "`target` - this denotes whether a tweet is about a real disaster (1) or not (0)"
   ]
  },
  {
   "cell_type": "code",
   "execution_count": 1,
   "metadata": {},
   "outputs": [],
   "source": [
    "import sys, time, re, os\n",
    "import itertools\n",
    "from string import punctuation, printable\n",
    "import numpy as np\n",
    "import pandas as pd\n",
    "import spacy\n",
    "import joblib\n",
    "from collections import Counter\n",
    "import scipy.stats as stats\n",
    "import matplotlib.pyplot as plt\n",
    "from sklearn.utils import shuffle\n",
    "from sklearn.metrics import classification_report\n",
    "from sklearn.pipeline import Pipeline\n",
    "from sklearn.model_selection import train_test_split, GridSearchCV\n",
    "from sklearn.feature_extraction.text import TfidfVectorizer, ENGLISH_STOP_WORDS\n",
    "from sklearn.datasets import load_files\n",
    "import seaborn as sns"
   ]
  },
  {
   "cell_type": "code",
   "execution_count": 15,
   "metadata": {},
   "outputs": [
    {
     "name": "stdout",
     "output_type": "stream",
     "text": [
      "Overwriting disaster_tweets_nlp.data_exp.py\n"
     ]
    }
   ],
   "source": [
    "%%writefile disaster_tweets_nlp.data_exp.py\n",
    "#!/usr/bin/env python\n",
    "\n",
    "import sys, time, re, os\n",
    "import numpy as np\n",
    "import pandas as pd\n",
    "import matplotlib.pyplot as plt\n",
    "import seaborn as sns\n",
    "sns.set(style=\"ticks\", color_codes=True)\n",
    "plt.style.use('seaborn')\n",
    "\n",
    "SMALL_SIZE = 12\n",
    "MEDIUM_SIZE = 14\n",
    "LARGE_SIZE = 16\n",
    "\n",
    "plt.rc('font', size=SMALL_SIZE)          # controls default text sizes\n",
    "plt.rc('axes', titlesize=SMALL_SIZE)     # fontsize of the axes title\n",
    "plt.rc('axes', labelsize=MEDIUM_SIZE)    # fontsize of the x and y labels\n",
    "plt.rc('xtick', labelsize=SMALL_SIZE)    # fontsize of the tick labels\n",
    "plt.rc('ytick', labelsize=SMALL_SIZE)    # fontsize of the tick labels\n",
    "plt.rc('legend', fontsize=SMALL_SIZE)    # legend fontsize\n",
    "plt.rc('figure', titlesize=LARGE_SIZE)   # fontsize of the figure title\n",
    "\n",
    "DATA_DIR = os.path.join(\".\",\"data\")\n",
    "IMAGE_DIR = os.path.join(\".\",\"images\")\n",
    "\n",
    "def save_fig(fig_id, tight_layout=True, image_path=IMAGE_DIR):\n",
    "    \"\"\"\n",
    "    save the image as png file in the image directory\n",
    "    \"\"\"\n",
    "    \n",
    "    ## Check the data directory\n",
    "    if not os.path.exists(image_path):\n",
    "        os.makedirs(image_path)\n",
    "    \n",
    "    path = os.path.join(image_path, fig_id + \".png\")\n",
    "    print(\"...saving figure\", fig_id)\n",
    "    if tight_layout:\n",
    "        plt.tight_layout()\n",
    "    plt.savefig(path, format='png', dpi=300)\n",
    "\n",
    "def ingest_data(datadir=DATA_DIR, filename=\"tweets.csv\"):\n",
    "    \"\"\"\n",
    "    ingest tweets dataset\n",
    "    \"\"\"\n",
    "    \n",
    "    print(\"Ingesting data\")\n",
    "    \n",
    "    ## load csv file from data directory\n",
    "    tweets = pd.read_csv(os.path.join(datadir,filename))\n",
    "    \n",
    "    ## quality checks\n",
    "    print(\"---------------------------\")\n",
    "    \n",
    "    ## check duplicates\n",
    "    is_duplicate = tweets.duplicated(subset=[\"id\"])\n",
    "    print(\"...number of duplicates:\", len(tweets[is_duplicate]))\n",
    "    \n",
    "    ## check missing data\n",
    "    total = tweets.isnull().sum().sort_values(ascending=False)\n",
    "    percent = (tweets.isnull().sum()/tweets.isnull().count()).sort_values(ascending=False)\n",
    "    missing_data = pd.concat([total, percent], axis=1, keys=['Total', 'Percent'])\n",
    "    print(\"...missing values: \\n {}\".format(missing_data.head()))\n",
    "    print(\"---------------------------\")\n",
    "    \n",
    "    return tweets\n",
    "\n",
    "def summarize_data(corpus):\n",
    "    \"\"\"\n",
    "    print statements and visualizations to summarize the corpus\n",
    "    \"\"\"\n",
    "    \n",
    "    print(\"Summarize data\")\n",
    "    \n",
    "    # get the documents size\n",
    "    df_doc_size = pd.Series([len(str(doc).split(\" \")) for doc in corpus])\n",
    "    \n",
    "    # get the tokens in the corpus\n",
    "    df_tokens = pd.Series([token for doc in corpus for token in str(doc).split(\" \")])\n",
    "    \n",
    "    print(\"---------------------------\")\n",
    "    print(\"num docs\", len(corpus))\n",
    "    print(\"median tokens\", df_doc_size.median())\n",
    "    print(\"num tokens\", len(df_tokens))\n",
    "    print(\"unique tokens\", len(df_tokens.value_counts()))\n",
    "    print(\"---------------------------\")\n",
    "    \n",
    "    # make plots\n",
    "    fig = plt.figure(figsize=(14,6))\n",
    "    ax1 = fig.add_subplot(121)\n",
    "    ax2 = fig.add_subplot(122)\n",
    "    \n",
    "    sns.distplot(df_doc_size, ax=ax1)\n",
    "    ax1.set_title(\"Document Sizes\")\n",
    "    \n",
    "    sns.distplot(df_tokens.value_counts().values, ax=ax2)\n",
    "    ax2.set_title(\"Tokens Counts\")\n",
    "    save_fig(\"summarize_data\")\n",
    "    \n",
    "if __name__ == \"__main__\":\n",
    "    \n",
    "    run_start = time.time()\n",
    "    \n",
    "    ## load tweets\n",
    "    tweets = ingest_data()\n",
    "    \n",
    "    ## summarize data\n",
    "    summarize_data(tweets.text.values.tolist())\n",
    "    \n",
    "    print(\"METADATA\")\n",
    "    m, s = divmod(time.time()-run_start,60)\n",
    "    h, m = divmod(m, 60)\n",
    "    print(\"...run time:\", \"%d:%02d:%02d\"%(h, m, s))\n",
    "    \n",
    "    print(\"done\")\n"
   ]
  },
  {
   "cell_type": "code",
   "execution_count": 16,
   "metadata": {},
   "outputs": [
    {
     "name": "stdout",
     "output_type": "stream",
     "text": [
      "Ingesting data\n",
      "---------------------------\n",
      "...number of duplicates: 0\n",
      "...missing values: \n",
      "           Total   Percent\n",
      "location   3418  0.300616\n",
      "target        0  0.000000\n",
      "text          0  0.000000\n",
      "keyword       0  0.000000\n",
      "id            0  0.000000\n",
      "---------------------------\n",
      "Summarize data\n",
      "---------------------------\n",
      "num docs 11370\n",
      "median tokens 18.0\n",
      "num tokens 195179\n",
      "unique tokens 45250\n",
      "---------------------------\n",
      "...saving figure summarize_data\n",
      "METADATA\n",
      "...run time: 0:00:00\n",
      "done\n"
     ]
    },
    {
     "data": {
      "image/png": "[encoded data removed]",
      "text/plain": [
       "<Figure size 1008x432 with 2 Axes>"
      ]
     },
     "metadata": {},
     "output_type": "display_data"
    }
   ],
   "source": [
    "%run disaster_tweets_nlp.data_exp.py"
   ]
  },
  {
   "cell_type": "code",
   "execution_count": null,
   "metadata": {},
   "outputs": [],
   "source": []
  }
 ],
 "metadata": {
  "celltoolbar": "Slideshow",
  "kernelspec": {
   "display_name": "Python 3",
   "language": "python",
   "name": "python3"
  },
  "language_info": {
   "codemirror_mode": {
    "name": "ipython",
    "version": 3
   },
   "file_extension": ".py",
   "mimetype": "text/x-python",
   "name": "python",
   "nbconvert_exporter": "python",
   "pygments_lexer": "ipython3",
   "version": "3.7.7"
  }
 },
 "nbformat": 4,
 "nbformat_minor": 4
}
